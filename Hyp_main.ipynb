{
 "cells": [
  {
   "cell_type": "markdown",
   "id": "5a1e60b0",
   "metadata": {},
   "source": [
    "# Main code to run all methods\n"
   ]
  },
  {
   "cell_type": "code",
   "execution_count": null,
   "id": "69c7fccf",
   "metadata": {},
   "outputs": [],
   "source": [
    "# test commit"
   ]
  }
 ],
 "metadata": {
  "kernelspec": {
   "display_name": "Python 3 (ipykernel)",
   "language": "python",
   "name": "python3"
  },
  "language_info": {
   "codemirror_mode": {
    "name": "ipython",
    "version": 3
   },
   "file_extension": ".py",
   "mimetype": "text/x-python",
   "name": "python",
   "nbconvert_exporter": "python",
   "pygments_lexer": "ipython3",
   "version": "3.11.3"
  }
 },
 "nbformat": 4,
 "nbformat_minor": 5
}
